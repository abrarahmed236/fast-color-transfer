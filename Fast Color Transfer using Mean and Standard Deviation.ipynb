{
 "cells": [
  {
   "cell_type": "markdown",
   "metadata": {
    "id": "Vzs0rBgeB-cY"
   },
   "source": [
    "# Fast Color Transfer using Mean and Standard Deviation\n"
   ]
  },
  {
   "cell_type": "markdown",
   "metadata": {
    "id": "xa5qOsyqBJB4"
   },
   "source": [
    "#### Imports\n"
   ]
  },
  {
   "cell_type": "code",
   "execution_count": null,
   "metadata": {
    "id": "BsX1pD95BLrH"
   },
   "outputs": [],
   "source": [
    "import os\n",
    "import sys\n",
    "!{sys.executable} -m pip install numpy\n",
    "!{sys.executable} -m pip install opencv-python\n",
    "!{sys.executable} -m pip install matplotlib\n",
    "\n",
    "import numpy as np\n",
    "import cv2\n",
    "import matplotlib.pyplot as plt"
   ]
  },
  {
   "cell_type": "markdown",
   "metadata": {
    "id": "hBmlcuQVHyGE"
   },
   "source": [
    "#### Google Drive vs Local Execution\n"
   ]
  },
  {
   "cell_type": "code",
   "execution_count": null,
   "metadata": {
    "id": "5j6tnybWn_lO"
   },
   "outputs": [],
   "source": [
    "# If running on a local machine it is recommended to start a virtual environment\n",
    "# before running this notebook.\n",
    "try:\n",
    "    from google.colab import drive\n",
    "    IN_COLAB = True\n",
    "    print(\"Running in Google Colab\")\n",
    "except:\n",
    "    IN_COLAB = False\n",
    "    print(\"Running locally\")\n",
    "\n",
    "if IN_COLAB:\n",
    "    drive.mount('/content/drive')\n",
    "    # Edit base path as needed\n",
    "    base_path = '/content/drive/My Drive/Colab Notebooks/Color Transfer'\n",
    "else:\n",
    "    # Edit base path as needed\n",
    "    base_path = os.getcwd()\n",
    "\n",
    "print(f\"Base path: {base_path}\")\n",
    "image_path = base_path + '/images'\n",
    "print(f\"Image path: {image_path}\")\n",
    "os.chdir(image_path)"
   ]
  },
  {
   "cell_type": "code",
   "execution_count": null,
   "metadata": {
    "id": "JxtZEvCgpBUf"
   },
   "outputs": [],
   "source": [
    "# Display image filenames for sanity's sake\n",
    "print(\"Images\")\n",
    "os.listdir(image_path)"
   ]
  },
  {
   "cell_type": "markdown",
   "metadata": {
    "id": "6IXa32GOBphY"
   },
   "source": [
    "#### Function Definitions for Color Transfer\n"
   ]
  },
  {
   "cell_type": "markdown",
   "metadata": {},
   "source": [
    "![formula](attachments/formula.png)\n"
   ]
  },
  {
   "cell_type": "code",
   "execution_count": null,
   "metadata": {
    "id": "t_dbarI3pgwJ"
   },
   "outputs": [],
   "source": [
    "def color_transfer(reference, input):\n",
    "    # OpenCV expects floats to be 32-bit.\n",
    "    # Convert the image to CIE L*a*b color space\n",
    "    # Note: images imported by using cv2.imread() are imported as BGR rather\n",
    "    # than RBG. It is recommended to work with BGR inside of opencv and to\n",
    "    # convert to RGB only when needed.\n",
    "    reference = cv2.cvtColor(reference, cv2.COLOR_BGR2LAB).astype(\"float32\")\n",
    "    input = cv2.cvtColor(input, cv2.COLOR_BGR2LAB).astype(\"float32\")\n",
    "\n",
    "    # Split images into L*a*b color space\n",
    "    (l_ref, a_ref, b_ref) = cv2.split(reference)\n",
    "    (l_in, a_in, b_in) = cv2.split(input)\n",
    "\n",
    "    # Apply transform described in the paper\n",
    "    # Refer to formula above\n",
    "    l_out = rescale(\n",
    "        ((l_ref.std() / l_in.std()) * (l_in - l_in.mean())) + l_ref.mean())\n",
    "    a_out = rescale(\n",
    "        ((a_ref.std() / a_in.std()) * (a_in - a_in.mean())) + a_ref.mean())\n",
    "    b_out = rescale(\n",
    "        ((b_ref.std() / b_in.std()) * (b_in - b_in.mean())) + b_ref.mean())\n",
    "\n",
    "    # Generate output image\n",
    "    output = cv2.merge([l_out, a_out, b_out])\n",
    "    output = cv2.cvtColor(output.astype(\"uint8\"), cv2.COLOR_LAB2BGR)\n",
    "\n",
    "    # Show Histogram if needed\n",
    "    # show_hist(l_in, a_in, b_in, l_ref, a_ref, b_ref, l_out, a_out, b_out)\n",
    "\n",
    "    # Return the color transferred image\n",
    "    return output\n",
    "\n",
    "\n",
    "def rescale(arr):\n",
    "    arr_min, arr_max = arr.min(), arr.max()\n",
    "    new_min, new_max = max(arr_min, 0), min(arr_max, 255)\n",
    "\n",
    "    # If the array is out of bounds of 0 to 255\n",
    "    # scale it back into the range of 0 to 255\n",
    "    scaled = new_min + (new_max - new_min) * \\\n",
    "        (arr - arr_min) / (arr_max - arr_min)\n",
    "    return scaled"
   ]
  },
  {
   "cell_type": "markdown",
   "metadata": {
    "id": "41r3rydfBl5_"
   },
   "source": [
    "#### Function Definitions to show images\n"
   ]
  },
  {
   "cell_type": "code",
   "execution_count": null,
   "metadata": {
    "id": "JzTlcCto_z8n"
   },
   "outputs": [],
   "source": [
    "def resize_image(image, width=700):\n",
    "    # Resize the image to have a constant width\n",
    "    r = width / float(image.shape[1])\n",
    "    dim = (width, int(image.shape[0] * r))\n",
    "    resized = cv2.resize(image, dim, interpolation=cv2.INTER_AREA)\n",
    "\n",
    "    # Return the resized image in RGB format for matplotlib\n",
    "    return cv2.cvtColor(resized, cv2.COLOR_BGR2RGB)\n",
    "\n",
    "\n",
    "def show_hist(l_in, a_in, b_in, l_ref, a_ref, b_ref, l_out, a_out, b_out):\n",
    "    # Calculate histograms with 64 bins\n",
    "    hist_l_in = cv2.calcHist([l_in], [0], None, [64], [0, 256])\n",
    "    hist_a_in = cv2.calcHist([a_in], [0], None, [64], [0, 256])\n",
    "    hist_b_in = cv2.calcHist([b_in], [0], None, [64], [0, 256])\n",
    "\n",
    "    hist_l_ref = cv2.calcHist([l_ref], [0], None, [64], [0, 256])\n",
    "    hist_a_ref = cv2.calcHist([a_ref], [0], None, [64], [0, 256])\n",
    "    hist_b_ref = cv2.calcHist([b_ref], [0], None, [64], [0, 256])\n",
    "\n",
    "    hist_l_out = cv2.calcHist([l_out], [0], None, [64], [0, 256])\n",
    "    hist_a_out = cv2.calcHist([a_out], [0], None, [64], [0, 256])\n",
    "    hist_b_out = cv2.calcHist([b_out], [0], None, [64], [0, 256])\n",
    "\n",
    "    # Normalize histograms for better visualization\n",
    "    hist_l_in = hist_l_in / hist_l_in.sum()\n",
    "    hist_a_in = hist_a_in / hist_a_in.sum()\n",
    "    hist_b_in = hist_b_in / hist_b_in.sum()\n",
    "\n",
    "    hist_l_ref = hist_l_ref / hist_l_ref.sum()\n",
    "    hist_a_ref = hist_a_ref / hist_a_ref.sum()\n",
    "    hist_b_ref = hist_b_ref / hist_b_ref.sum()\n",
    "\n",
    "    hist_l_out = hist_l_out / hist_l_out.sum()\n",
    "    hist_a_out = hist_a_out / hist_a_out.sum()\n",
    "    hist_b_out = hist_b_out / hist_b_out.sum()\n",
    "\n",
    "    # Create x-axis values (pixel values)\n",
    "    bins = np.arange(64)\n",
    "\n",
    "    # Create a figure and axis for each image\n",
    "    fig, axs = plt.subplots(1, 3, figsize=(22, 4))\n",
    "\n",
    "    # Display the histograms side by side\n",
    "    axs[0].bar(bins, hist_l_in.flatten(), color='red', alpha=0.7, label='L')\n",
    "    axs[0].bar(bins, hist_a_in.flatten(), color='green', alpha=0.7, label='A')\n",
    "    axs[0].bar(bins, hist_b_in.flatten(), color='blue', alpha=0.7, label='B')\n",
    "    axs[0].legend()\n",
    "    axs[0].axis('off')\n",
    "\n",
    "    axs[1].bar(bins, hist_l_ref.flatten(), color='red', alpha=0.7, label='L')\n",
    "    axs[1].bar(bins, hist_a_ref.flatten(), color='green', alpha=0.7, label='A')\n",
    "    axs[1].bar(bins, hist_b_ref.flatten(), color='blue', alpha=0.7, label='B')\n",
    "    axs[1].legend()\n",
    "    axs[1].axis('off')\n",
    "\n",
    "    axs[2].bar(bins, hist_l_out.flatten(), color='red', alpha=0.7, label='L')\n",
    "    axs[2].bar(bins, hist_a_out.flatten(), color='green', alpha=0.7, label='A')\n",
    "    axs[2].bar(bins, hist_b_out.flatten(), color='blue', alpha=0.7, label='B')\n",
    "    axs[2].legend()\n",
    "    axs[2].axis('off')\n",
    "\n",
    "    plt.show()\n",
    "\n",
    "\n",
    "def showcase(reference, input):\n",
    "    # Generate a transferred image\n",
    "    output = color_transfer(reference, input)\n",
    "\n",
    "    # Create a figure and axis for each image\n",
    "    fig, axs = plt.subplots(1, 3, figsize=(22, 9))\n",
    "\n",
    "    # Display the images side by side\n",
    "    axs[0].imshow(resize_image(input))\n",
    "    axs[0].axis('off')\n",
    "    axs[0].set_title('Input Image')\n",
    "\n",
    "    axs[1].imshow(resize_image(reference))\n",
    "    axs[1].axis('off')\n",
    "    axs[1].set_title('Reference Palette')\n",
    "\n",
    "    axs[2].imshow(resize_image(output))\n",
    "    axs[2].axis('off')\n",
    "    axs[2].set_title('Output Image')\n",
    "\n",
    "    plt.show()"
   ]
  },
  {
   "cell_type": "markdown",
   "metadata": {
    "id": "ekDigXfxZps2"
   },
   "source": [
    "#### Showcase\n"
   ]
  },
  {
   "cell_type": "code",
   "execution_count": null,
   "metadata": {
    "id": "kS74i3nBad6X"
   },
   "outputs": [],
   "source": [
    "# Showcase\n",
    "selection = [\n",
    "    ['dam spillway.jpeg', 'green canopy.jpg'],\n",
    "    ['autumn path.jpg', 'purple ocean mountain.jpg'],\n",
    "    ['purple ocean mountain.jpg', 'abandoned building.jpg'],\n",
    "    ['abandoned building.jpg', 'trees shade.jpg'],\n",
    "    ['trees shade.jpg', 'autumn path.jpg'],\n",
    "    ['autumn path.jpg', 'green canopy.jpg'],\n",
    "]"
   ]
  },
  {
   "cell_type": "code",
   "execution_count": null,
   "metadata": {
    "id": "vL1YiM5tXZ5v"
   },
   "outputs": [],
   "source": [
    "reference = cv2.imread(selection[0][0])\n",
    "input = cv2.imread(selection[0][1])\n",
    "showcase(reference, input)"
   ]
  },
  {
   "cell_type": "code",
   "execution_count": null,
   "metadata": {
    "id": "eyir1WtiXbHU"
   },
   "outputs": [],
   "source": [
    "reference = cv2.imread(selection[1][0])\n",
    "input = cv2.imread(selection[1][1])\n",
    "showcase(reference, input)"
   ]
  },
  {
   "cell_type": "code",
   "execution_count": null,
   "metadata": {
    "id": "cwwHw2X_Xa78"
   },
   "outputs": [],
   "source": [
    "reference = cv2.imread(selection[2][0])\n",
    "input = cv2.imread(selection[2][1])\n",
    "showcase(reference, input)"
   ]
  },
  {
   "cell_type": "code",
   "execution_count": null,
   "metadata": {
    "id": "MI2QKWO0XazQ"
   },
   "outputs": [],
   "source": [
    "reference = cv2.imread(selection[3][0])\n",
    "input = cv2.imread(selection[3][1])\n",
    "showcase(reference, input)"
   ]
  },
  {
   "cell_type": "code",
   "execution_count": null,
   "metadata": {
    "id": "ttd9AxtnXalO"
   },
   "outputs": [],
   "source": [
    "reference = cv2.imread(selection[4][0])\n",
    "input = cv2.imread(selection[4][1])\n",
    "showcase(reference, input)"
   ]
  },
  {
   "cell_type": "code",
   "execution_count": null,
   "metadata": {
    "id": "iA26UIqBaLY9"
   },
   "outputs": [],
   "source": [
    "reference = cv2.imread(selection[5][0])\n",
    "input = cv2.imread(selection[5][1])\n",
    "showcase(reference, input)"
   ]
  },
  {
   "cell_type": "markdown",
   "metadata": {},
   "source": [
    "#### References:\n",
    "\n",
    "1.  [Color transfer between images](https://ieeexplore.ieee.org/abstract/document/946629):\n",
    "    E. Reinhard, M. Adhikhmin, B. Gooch, P. Shirley.\n",
    "2.  [Colour Mapping: A Review of Recent Methods, Extensions and Applications](https://onlinelibrary.wiley.com/doi/abs/10.1111/cgf.12671):\n",
    "    H. Sheikh Faridul, T. Pouli, C. Chamaret et al.\n",
    "3.  [CIE 15:2004. Colorimetry, 3rd edition](https://cie.co.at/publications/colorimetry-3rd-edition#:~:text=CIE%2015%3A2004%20Colorimetry%20represents,values%2C%20chromaticity%20coordinates%2C%20colour%20spaces)\n"
   ]
  }
 ],
 "metadata": {
  "colab": {
   "private_outputs": true,
   "provenance": []
  },
  "kernelspec": {
   "display_name": "Python 3",
   "name": "python3"
  },
  "language_info": {
   "codemirror_mode": {
    "name": "ipython",
    "version": 3
   },
   "file_extension": ".py",
   "mimetype": "text/x-python",
   "name": "python",
   "nbconvert_exporter": "python",
   "pygments_lexer": "ipython3",
   "version": "3.10.12"
  }
 },
 "nbformat": 4,
 "nbformat_minor": 0
}
